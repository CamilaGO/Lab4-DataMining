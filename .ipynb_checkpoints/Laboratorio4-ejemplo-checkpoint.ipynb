{
 "cells": [
  {
   "cell_type": "markdown",
   "metadata": {},
   "source": [
    "##### María Inés Vásquez Figueroa 18250 Minería de Datos"
   ]
  },
  {
   "cell_type": "code",
   "execution_count": 62,
   "metadata": {},
   "outputs": [],
   "source": [
    "import pandas as pd\n",
    "import matplotlib.pyplot as plt #para graficas\n",
    "import numpy as np \n",
    "from matplotlib import pyplot as plt\n",
    "from sklearn.cluster import KMeans\n",
    "import seaborn as sns\n",
    "from sklearn.metrics import pairwise_distances_argmin_min\n",
    "from sklearn.preprocessing import StandardScaler, PolynomialFeatures\n",
    "from sklearn.model_selection import train_test_split\n",
    "from sklearn.linear_model import LinearRegression\n",
    "from sklearn.metrics import mean_squared_error, r2_score, mean_absolute_error\n",
    "from math import pow\n",
    "from sklearn.model_selection import train_test_split\n",
    "from sklearn.pipeline import make_pipeline\n",
    "import statsmodels.api as sm"
   ]
  },
  {
   "cell_type": "code",
   "execution_count": 2,
   "metadata": {},
   "outputs": [],
   "source": [
    "df = pd.read_csv('insurance.csv')"
   ]
  },
  {
   "cell_type": "markdown",
   "metadata": {},
   "source": [
    "## Exploración de datos"
   ]
  },
  {
   "cell_type": "code",
   "execution_count": 3,
   "metadata": {
    "scrolled": true
   },
   "outputs": [
    {
     "data": {
      "text/html": [
       "<div>\n",
       "<style scoped>\n",
       "    .dataframe tbody tr th:only-of-type {\n",
       "        vertical-align: middle;\n",
       "    }\n",
       "\n",
       "    .dataframe tbody tr th {\n",
       "        vertical-align: top;\n",
       "    }\n",
       "\n",
       "    .dataframe thead th {\n",
       "        text-align: right;\n",
       "    }\n",
       "</style>\n",
       "<table border=\"1\" class=\"dataframe\">\n",
       "  <thead>\n",
       "    <tr style=\"text-align: right;\">\n",
       "      <th></th>\n",
       "      <th>age</th>\n",
       "      <th>sex</th>\n",
       "      <th>bmi</th>\n",
       "      <th>children</th>\n",
       "      <th>smoker</th>\n",
       "      <th>region</th>\n",
       "      <th>charges</th>\n",
       "    </tr>\n",
       "  </thead>\n",
       "  <tbody>\n",
       "    <tr>\n",
       "      <th>0</th>\n",
       "      <td>19</td>\n",
       "      <td>0</td>\n",
       "      <td>27.900</td>\n",
       "      <td>0</td>\n",
       "      <td>1</td>\n",
       "      <td>3</td>\n",
       "      <td>16884.92400</td>\n",
       "    </tr>\n",
       "    <tr>\n",
       "      <th>1</th>\n",
       "      <td>18</td>\n",
       "      <td>1</td>\n",
       "      <td>33.770</td>\n",
       "      <td>1</td>\n",
       "      <td>0</td>\n",
       "      <td>2</td>\n",
       "      <td>1725.55230</td>\n",
       "    </tr>\n",
       "    <tr>\n",
       "      <th>2</th>\n",
       "      <td>28</td>\n",
       "      <td>1</td>\n",
       "      <td>33.000</td>\n",
       "      <td>3</td>\n",
       "      <td>0</td>\n",
       "      <td>2</td>\n",
       "      <td>4449.46200</td>\n",
       "    </tr>\n",
       "    <tr>\n",
       "      <th>3</th>\n",
       "      <td>33</td>\n",
       "      <td>1</td>\n",
       "      <td>22.705</td>\n",
       "      <td>0</td>\n",
       "      <td>0</td>\n",
       "      <td>1</td>\n",
       "      <td>21984.47061</td>\n",
       "    </tr>\n",
       "    <tr>\n",
       "      <th>4</th>\n",
       "      <td>32</td>\n",
       "      <td>1</td>\n",
       "      <td>28.880</td>\n",
       "      <td>0</td>\n",
       "      <td>0</td>\n",
       "      <td>1</td>\n",
       "      <td>3866.85520</td>\n",
       "    </tr>\n",
       "  </tbody>\n",
       "</table>\n",
       "</div>"
      ],
      "text/plain": [
       "   age  sex     bmi  children  smoker  region      charges\n",
       "0   19    0  27.900         0       1       3  16884.92400\n",
       "1   18    1  33.770         1       0       2   1725.55230\n",
       "2   28    1  33.000         3       0       2   4449.46200\n",
       "3   33    1  22.705         0       0       1  21984.47061\n",
       "4   32    1  28.880         0       0       1   3866.85520"
      ]
     },
     "execution_count": 3,
     "metadata": {},
     "output_type": "execute_result"
    }
   ],
   "source": [
    "df.head()"
   ]
  },
  {
   "cell_type": "code",
   "execution_count": 4,
   "metadata": {},
   "outputs": [
    {
     "name": "stdout",
     "output_type": "stream",
     "text": [
      "348\n"
     ]
    }
   ],
   "source": [
    "print(len(df))"
   ]
  },
  {
   "cell_type": "code",
   "execution_count": 5,
   "metadata": {
    "scrolled": false
   },
   "outputs": [
    {
     "data": {
      "image/png": "[encoded data removed]",
      "text/plain": [
       "<Figure size 1080x1080 with 42 Axes>"
      ]
     },
     "metadata": {
      "needs_background": "light"
     },
     "output_type": "display_data"
    }
   ],
   "source": [
    "sns.pairplot(df[['age','bmi','children','smoker','region','charges']])\n",
    "plt.show()"
   ]
  },
  {
   "cell_type": "code",
   "execution_count": 6,
   "metadata": {},
   "outputs": [
    {
     "name": "stdout",
     "output_type": "stream",
     "text": [
      "<class 'pandas.core.frame.DataFrame'>\n",
      "RangeIndex: 348 entries, 0 to 347\n",
      "Data columns (total 7 columns):\n",
      " #   Column    Non-Null Count  Dtype  \n",
      "---  ------    --------------  -----  \n",
      " 0   age       348 non-null    int64  \n",
      " 1   sex       348 non-null    int64  \n",
      " 2   bmi       348 non-null    float64\n",
      " 3   children  348 non-null    int64  \n",
      " 4   smoker    348 non-null    int64  \n",
      " 5   region    348 non-null    int64  \n",
      " 6   charges   348 non-null    float64\n",
      "dtypes: float64(2), int64(5)\n",
      "memory usage: 19.1 KB\n"
     ]
    }
   ],
   "source": [
    "df.info()"
   ]
  },
  {
   "cell_type": "code",
   "execution_count": 7,
   "metadata": {
    "scrolled": false
   },
   "outputs": [
    {
     "data": {
      "image/png": "[encoded data removed]",
      "text/plain": [
       "<Figure size 432x288 with 2 Axes>"
      ]
     },
     "metadata": {
      "needs_background": "light"
     },
     "output_type": "display_data"
    }
   ],
   "source": [
    "sns.heatmap(df.corr(),cmap='BuPu')\n",
    "plt.show()"
   ]
  },
  {
   "cell_type": "markdown",
   "metadata": {},
   "source": [
    "# Preparación de los datos –datos faltantes"
   ]
  },
  {
   "cell_type": "code",
   "execution_count": 8,
   "metadata": {},
   "outputs": [
    {
     "data": {
      "text/plain": [
       "0"
      ]
     },
     "execution_count": 8,
     "metadata": {},
     "output_type": "execute_result"
    }
   ],
   "source": [
    "df.isnull().sum().sum()"
   ]
  },
  {
   "cell_type": "markdown",
   "metadata": {},
   "source": [
    "No hay nulos, por lo cual no es necesario tomar acciones para cubrir los valores nulos"
   ]
  },
  {
   "cell_type": "markdown",
   "metadata": {},
   "source": [
    "# Preparación de los datos –datos categóricos"
   ]
  },
  {
   "cell_type": "markdown",
   "metadata": {},
   "source": [
    "### Label encoding para \"sex\" y \"smoker\""
   ]
  },
  {
   "cell_type": "code",
   "execution_count": 9,
   "metadata": {},
   "outputs": [
    {
     "data": {
      "text/plain": [
       "age           int64\n",
       "sex           int64\n",
       "bmi         float64\n",
       "children      int64\n",
       "smoker        int64\n",
       "region        int64\n",
       "charges     float64\n",
       "dtype: object"
      ]
     },
     "execution_count": 9,
     "metadata": {},
     "output_type": "execute_result"
    }
   ],
   "source": [
    "df.dtypes"
   ]
  },
  {
   "cell_type": "code",
   "execution_count": 10,
   "metadata": {},
   "outputs": [
    {
     "data": {
      "text/plain": [
       "age            int64\n",
       "sex         category\n",
       "bmi          float64\n",
       "children       int64\n",
       "smoker      category\n",
       "region         int64\n",
       "charges      float64\n",
       "dtype: object"
      ]
     },
     "execution_count": 10,
     "metadata": {},
     "output_type": "execute_result"
    }
   ],
   "source": [
    "df[\"sex\"] = df[\"sex\"].astype('category')\n",
    "df[\"smoker\"] = df[\"smoker\"].astype('category')\n",
    "df.dtypes"
   ]
  },
  {
   "cell_type": "code",
   "execution_count": 11,
   "metadata": {},
   "outputs": [
    {
     "data": {
      "text/html": [
       "<div>\n",
       "<style scoped>\n",
       "    .dataframe tbody tr th:only-of-type {\n",
       "        vertical-align: middle;\n",
       "    }\n",
       "\n",
       "    .dataframe tbody tr th {\n",
       "        vertical-align: top;\n",
       "    }\n",
       "\n",
       "    .dataframe thead th {\n",
       "        text-align: right;\n",
       "    }\n",
       "</style>\n",
       "<table border=\"1\" class=\"dataframe\">\n",
       "  <thead>\n",
       "    <tr style=\"text-align: right;\">\n",
       "      <th></th>\n",
       "      <th>age</th>\n",
       "      <th>sex</th>\n",
       "      <th>bmi</th>\n",
       "      <th>children</th>\n",
       "      <th>smoker</th>\n",
       "      <th>region</th>\n",
       "      <th>charges</th>\n",
       "    </tr>\n",
       "  </thead>\n",
       "  <tbody>\n",
       "    <tr>\n",
       "      <th>0</th>\n",
       "      <td>19</td>\n",
       "      <td>0</td>\n",
       "      <td>27.900</td>\n",
       "      <td>0</td>\n",
       "      <td>1</td>\n",
       "      <td>3</td>\n",
       "      <td>16884.92400</td>\n",
       "    </tr>\n",
       "    <tr>\n",
       "      <th>1</th>\n",
       "      <td>18</td>\n",
       "      <td>1</td>\n",
       "      <td>33.770</td>\n",
       "      <td>1</td>\n",
       "      <td>0</td>\n",
       "      <td>2</td>\n",
       "      <td>1725.55230</td>\n",
       "    </tr>\n",
       "    <tr>\n",
       "      <th>2</th>\n",
       "      <td>28</td>\n",
       "      <td>1</td>\n",
       "      <td>33.000</td>\n",
       "      <td>3</td>\n",
       "      <td>0</td>\n",
       "      <td>2</td>\n",
       "      <td>4449.46200</td>\n",
       "    </tr>\n",
       "    <tr>\n",
       "      <th>3</th>\n",
       "      <td>33</td>\n",
       "      <td>1</td>\n",
       "      <td>22.705</td>\n",
       "      <td>0</td>\n",
       "      <td>0</td>\n",
       "      <td>1</td>\n",
       "      <td>21984.47061</td>\n",
       "    </tr>\n",
       "    <tr>\n",
       "      <th>4</th>\n",
       "      <td>32</td>\n",
       "      <td>1</td>\n",
       "      <td>28.880</td>\n",
       "      <td>0</td>\n",
       "      <td>0</td>\n",
       "      <td>1</td>\n",
       "      <td>3866.85520</td>\n",
       "    </tr>\n",
       "  </tbody>\n",
       "</table>\n",
       "</div>"
      ],
      "text/plain": [
       "   age  sex     bmi  children smoker  region      charges\n",
       "0   19    0  27.900         0      1       3  16884.92400\n",
       "1   18    1  33.770         1      0       2   1725.55230\n",
       "2   28    1  33.000         3      0       2   4449.46200\n",
       "3   33    1  22.705         0      0       1  21984.47061\n",
       "4   32    1  28.880         0      0       1   3866.85520"
      ]
     },
     "execution_count": 11,
     "metadata": {},
     "output_type": "execute_result"
    }
   ],
   "source": [
    "df[\"sex\"] = df[\"sex\"].cat.codes\n",
    "df.head()"
   ]
  },
  {
   "cell_type": "code",
   "execution_count": 12,
   "metadata": {},
   "outputs": [
    {
     "data": {
      "text/html": [
       "<div>\n",
       "<style scoped>\n",
       "    .dataframe tbody tr th:only-of-type {\n",
       "        vertical-align: middle;\n",
       "    }\n",
       "\n",
       "    .dataframe tbody tr th {\n",
       "        vertical-align: top;\n",
       "    }\n",
       "\n",
       "    .dataframe thead th {\n",
       "        text-align: right;\n",
       "    }\n",
       "</style>\n",
       "<table border=\"1\" class=\"dataframe\">\n",
       "  <thead>\n",
       "    <tr style=\"text-align: right;\">\n",
       "      <th></th>\n",
       "      <th>age</th>\n",
       "      <th>sex</th>\n",
       "      <th>bmi</th>\n",
       "      <th>children</th>\n",
       "      <th>smoker</th>\n",
       "      <th>region</th>\n",
       "      <th>charges</th>\n",
       "    </tr>\n",
       "  </thead>\n",
       "  <tbody>\n",
       "    <tr>\n",
       "      <th>0</th>\n",
       "      <td>19</td>\n",
       "      <td>0</td>\n",
       "      <td>27.900</td>\n",
       "      <td>0</td>\n",
       "      <td>1</td>\n",
       "      <td>3</td>\n",
       "      <td>16884.92400</td>\n",
       "    </tr>\n",
       "    <tr>\n",
       "      <th>1</th>\n",
       "      <td>18</td>\n",
       "      <td>1</td>\n",
       "      <td>33.770</td>\n",
       "      <td>1</td>\n",
       "      <td>0</td>\n",
       "      <td>2</td>\n",
       "      <td>1725.55230</td>\n",
       "    </tr>\n",
       "    <tr>\n",
       "      <th>2</th>\n",
       "      <td>28</td>\n",
       "      <td>1</td>\n",
       "      <td>33.000</td>\n",
       "      <td>3</td>\n",
       "      <td>0</td>\n",
       "      <td>2</td>\n",
       "      <td>4449.46200</td>\n",
       "    </tr>\n",
       "    <tr>\n",
       "      <th>3</th>\n",
       "      <td>33</td>\n",
       "      <td>1</td>\n",
       "      <td>22.705</td>\n",
       "      <td>0</td>\n",
       "      <td>0</td>\n",
       "      <td>1</td>\n",
       "      <td>21984.47061</td>\n",
       "    </tr>\n",
       "    <tr>\n",
       "      <th>4</th>\n",
       "      <td>32</td>\n",
       "      <td>1</td>\n",
       "      <td>28.880</td>\n",
       "      <td>0</td>\n",
       "      <td>0</td>\n",
       "      <td>1</td>\n",
       "      <td>3866.85520</td>\n",
       "    </tr>\n",
       "  </tbody>\n",
       "</table>\n",
       "</div>"
      ],
      "text/plain": [
       "   age  sex     bmi  children  smoker  region      charges\n",
       "0   19    0  27.900         0       1       3  16884.92400\n",
       "1   18    1  33.770         1       0       2   1725.55230\n",
       "2   28    1  33.000         3       0       2   4449.46200\n",
       "3   33    1  22.705         0       0       1  21984.47061\n",
       "4   32    1  28.880         0       0       1   3866.85520"
      ]
     },
     "execution_count": 12,
     "metadata": {},
     "output_type": "execute_result"
    }
   ],
   "source": [
    "df[\"smoker\"] = df[\"smoker\"].cat.codes\n",
    "df.head()"
   ]
  },
  {
   "cell_type": "markdown",
   "metadata": {},
   "source": [
    "### Hot encoder para \"region\""
   ]
  },
  {
   "cell_type": "code",
   "execution_count": 13,
   "metadata": {},
   "outputs": [
    {
     "data": {
      "text/html": [
       "<div>\n",
       "<style scoped>\n",
       "    .dataframe tbody tr th:only-of-type {\n",
       "        vertical-align: middle;\n",
       "    }\n",
       "\n",
       "    .dataframe tbody tr th {\n",
       "        vertical-align: top;\n",
       "    }\n",
       "\n",
       "    .dataframe thead th {\n",
       "        text-align: right;\n",
       "    }\n",
       "</style>\n",
       "<table border=\"1\" class=\"dataframe\">\n",
       "  <thead>\n",
       "    <tr style=\"text-align: right;\">\n",
       "      <th></th>\n",
       "      <th>age</th>\n",
       "      <th>sex</th>\n",
       "      <th>bmi</th>\n",
       "      <th>children</th>\n",
       "      <th>smoker</th>\n",
       "      <th>charges</th>\n",
       "      <th>region_0</th>\n",
       "      <th>region_1</th>\n",
       "      <th>region_2</th>\n",
       "      <th>region_3</th>\n",
       "    </tr>\n",
       "  </thead>\n",
       "  <tbody>\n",
       "    <tr>\n",
       "      <th>0</th>\n",
       "      <td>19</td>\n",
       "      <td>0</td>\n",
       "      <td>27.900</td>\n",
       "      <td>0</td>\n",
       "      <td>1</td>\n",
       "      <td>16884.92400</td>\n",
       "      <td>0</td>\n",
       "      <td>0</td>\n",
       "      <td>0</td>\n",
       "      <td>1</td>\n",
       "    </tr>\n",
       "    <tr>\n",
       "      <th>1</th>\n",
       "      <td>18</td>\n",
       "      <td>1</td>\n",
       "      <td>33.770</td>\n",
       "      <td>1</td>\n",
       "      <td>0</td>\n",
       "      <td>1725.55230</td>\n",
       "      <td>0</td>\n",
       "      <td>0</td>\n",
       "      <td>1</td>\n",
       "      <td>0</td>\n",
       "    </tr>\n",
       "    <tr>\n",
       "      <th>2</th>\n",
       "      <td>28</td>\n",
       "      <td>1</td>\n",
       "      <td>33.000</td>\n",
       "      <td>3</td>\n",
       "      <td>0</td>\n",
       "      <td>4449.46200</td>\n",
       "      <td>0</td>\n",
       "      <td>0</td>\n",
       "      <td>1</td>\n",
       "      <td>0</td>\n",
       "    </tr>\n",
       "    <tr>\n",
       "      <th>3</th>\n",
       "      <td>33</td>\n",
       "      <td>1</td>\n",
       "      <td>22.705</td>\n",
       "      <td>0</td>\n",
       "      <td>0</td>\n",
       "      <td>21984.47061</td>\n",
       "      <td>0</td>\n",
       "      <td>1</td>\n",
       "      <td>0</td>\n",
       "      <td>0</td>\n",
       "    </tr>\n",
       "    <tr>\n",
       "      <th>4</th>\n",
       "      <td>32</td>\n",
       "      <td>1</td>\n",
       "      <td>28.880</td>\n",
       "      <td>0</td>\n",
       "      <td>0</td>\n",
       "      <td>3866.85520</td>\n",
       "      <td>0</td>\n",
       "      <td>1</td>\n",
       "      <td>0</td>\n",
       "      <td>0</td>\n",
       "    </tr>\n",
       "  </tbody>\n",
       "</table>\n",
       "</div>"
      ],
      "text/plain": [
       "   age  sex     bmi  children  smoker      charges  region_0  region_1  \\\n",
       "0   19    0  27.900         0       1  16884.92400         0         0   \n",
       "1   18    1  33.770         1       0   1725.55230         0         0   \n",
       "2   28    1  33.000         3       0   4449.46200         0         0   \n",
       "3   33    1  22.705         0       0  21984.47061         0         1   \n",
       "4   32    1  28.880         0       0   3866.85520         0         1   \n",
       "\n",
       "   region_2  region_3  \n",
       "0         0         1  \n",
       "1         1         0  \n",
       "2         1         0  \n",
       "3         0         0  \n",
       "4         0         0  "
      ]
     },
     "execution_count": 13,
     "metadata": {},
     "output_type": "execute_result"
    }
   ],
   "source": [
    "df = pd.get_dummies(df, columns=[\"region\"])\n",
    "df.head()"
   ]
  },
  {
   "cell_type": "markdown",
   "metadata": {},
   "source": [
    "# Dividir en training and test con charges"
   ]
  },
  {
   "cell_type": "code",
   "execution_count": 14,
   "metadata": {},
   "outputs": [],
   "source": [
    "target=df[\"charges\"]\n",
    "data=np.array(df['bmi'])\n",
    "data=data.reshape(len(df), 1)"
   ]
  },
  {
   "cell_type": "markdown",
   "metadata": {},
   "source": [
    "# Preparación de los datos -escala"
   ]
  },
  {
   "cell_type": "code",
   "execution_count": 15,
   "metadata": {},
   "outputs": [],
   "source": [
    "sc=StandardScaler()\n",
    "data=sc.fit_transform(data)"
   ]
  },
  {
   "cell_type": "code",
   "execution_count": 16,
   "metadata": {},
   "outputs": [
    {
     "name": "stdout",
     "output_type": "stream",
     "text": [
      "[[-1.43036576 -1.01739261 -0.49424524 ... -0.56850147 -0.61277571\n",
      "   1.80108368]\n",
      " [-1.49982813  0.98290472  0.550655   ... -0.56850147  1.63191847\n",
      "  -0.55522129]\n",
      " [-0.80520451  0.98290472  0.41358972 ... -0.56850147  1.63191847\n",
      "  -0.55522129]\n",
      " ...\n",
      " [-0.38843033 -1.01739261 -0.25215592 ... -0.56850147  1.63191847\n",
      "  -0.55522129]\n",
      " [-0.4578927   0.98290472  0.90310857 ... -0.56850147  1.63191847\n",
      "  -0.55522129]\n",
      " [ 0.44511801  0.98290472  0.47500209 ... -0.56850147 -0.61277571\n",
      "  -0.55522129]] 0      16884.92400\n",
      "1       1725.55230\n",
      "2       4449.46200\n",
      "3      21984.47061\n",
      "4       3866.85520\n",
      "          ...     \n",
      "343    13981.85035\n",
      "344    10977.20630\n",
      "345     6184.29940\n",
      "346     4889.99950\n",
      "347     8334.45755\n",
      "Name: charges, Length: 348, dtype: float64\n"
     ]
    }
   ],
   "source": [
    "print(data,target)"
   ]
  },
  {
   "cell_type": "code",
   "execution_count": 16,
   "metadata": {},
   "outputs": [],
   "source": [
    "x_train1,x_test1,y_train1,y_test1 =train_test_split(data,target,test_size=.3)\n",
    "x_train2,x_test2,y_train2,y_test2 =train_test_split(data,target,test_size=.3)\n",
    "x_train2p,x_test2p,y_train2p,y_test2p =train_test_split(data,target,test_size=.3)"
   ]
  },
  {
   "cell_type": "code",
   "execution_count": 17,
   "metadata": {},
   "outputs": [
    {
     "name": "stdout",
     "output_type": "stream",
     "text": [
      "[[ 3.77988350e-01]\n",
      " [-7.61255524e-01]\n",
      " [ 5.93376645e-01]\n",
      " [-1.93610077e+00]\n",
      " [-9.62403271e-01]\n",
      " [ 1.64183702e+00]\n",
      " [ 3.97753249e-02]\n",
      " [ 2.71184237e-01]\n",
      " [-4.71994384e-01]\n",
      " [ 8.97768368e-01]\n",
      " [ 4.24270133e-01]\n",
      " [ 8.60571073e-02]\n",
      " [-5.56547641e-01]\n",
      " [ 3.53251535e-02]\n",
      " [ 1.06687488e+00]\n",
      " [ 1.99963080e+00]\n",
      " [-2.62836329e-01]\n",
      " [-3.16238386e-01]\n",
      " [-2.38289798e+00]\n",
      " [-4.23042499e-01]\n",
      " [ 1.70610364e-01]\n",
      " [ 9.22689328e-01]\n",
      " [-3.23174515e-02]\n",
      " [-6.70287883e-02]\n",
      " [-7.80836278e-01]\n",
      " [ 4.72331984e-01]\n",
      " [ 1.49943154e+00]\n",
      " [-5.22726338e-01]\n",
      " [-3.30478934e-01]\n",
      " [-5.83248669e-01]\n",
      " [ 1.23598139e+00]\n",
      " [ 1.87858614e+00]\n",
      " [ 1.37304667e+00]\n",
      " [-2.09541691e+00]\n",
      " [-5.65447983e-01]\n",
      " [-3.16238386e-01]\n",
      " [ 4.13589721e-01]\n",
      " [-1.11459913e+00]\n",
      " [ 2.03879231e+00]\n",
      " [ 2.37362934e-01]\n",
      " [ 1.11760683e+00]\n",
      " [-3.70530477e-01]\n",
      " [ 3.06785608e-01]\n",
      " [ 3.73538179e-01]\n",
      " [ 7.16201375e-01]\n",
      " [ 5.25734040e-01]\n",
      " [ 2.04431666e-01]\n",
      " [ 1.08378553e+00]\n",
      " [-1.11370910e+00]\n",
      " [ 2.17782180e-01]\n",
      " [-6.58011548e-01]\n",
      " [ 2.88984922e-01]\n",
      " [-7.02513262e-01]\n",
      " [-2.85977220e-01]\n",
      " [-8.78740049e-01]\n",
      " [ 1.84145023e-02]\n",
      " [ 1.64380124e-01]\n",
      " [-6.82932508e-01]\n",
      " [ 8.80857717e-01]\n",
      " [-5.73458292e-01]\n",
      " [-2.29834472e+00]\n",
      " [-4.94245241e-01]\n",
      " [ 1.18524944e+00]\n",
      " [-1.84513313e-01]\n",
      " [-1.19203211e+00]\n",
      " [-1.13506992e+00]\n",
      " [ 1.57419442e+00]\n",
      " [ 6.09397262e-01]\n",
      " [ 4.75002086e-01]\n",
      " [-5.90368943e-01]\n",
      " [-2.32575164e-01]\n",
      " [-9.45492620e-01]\n",
      " [ 4.13589721e-01]\n",
      " [ 4.13589721e-01]\n",
      " [ 6.62799319e-01]\n",
      " [-9.74863751e-01]\n",
      " [-7.25654153e-01]\n",
      " [-1.09768848e+00]\n",
      " [-1.32909739e+00]\n",
      " [-1.08166786e+00]\n",
      " [ 2.39388530e-03]\n",
      " [-2.36598733e+00]\n",
      " [-3.53619825e-01]\n",
      " [ 4.07359481e-01]\n",
      " [-4.76444556e-01]\n",
      " [ 9.22689328e-01]\n",
      " [-1.50692010e-01]\n",
      " [-5.56547641e-01]\n",
      " [-3.69640442e-01]\n",
      " [ 3.09615303e+00]\n",
      " [ 9.29809602e-01]\n",
      " [-2.24761277e+00]\n",
      " [ 2.72074271e-01]\n",
      " [ 1.25556215e+00]\n",
      " [ 8.97768368e-01]\n",
      " [ 2.07795382e+00]\n",
      " [-7.22094016e-01]\n",
      " [ 1.59039918e-01]\n",
      " [-1.16533109e+00]\n",
      " [-6.24190246e-01]\n",
      " [ 8.23005489e-01]\n",
      " [-5.29846612e-01]\n",
      " [-9.99600566e-02]\n",
      " [-5.47647298e-01]\n",
      " [-9.28581968e-01]\n",
      " [-1.23297369e+00]\n",
      " [ 1.54037312e+00]\n",
      " [ 1.98201426e-01]\n",
      " [ 3.05895574e-01]\n",
      " [-5.06705721e-01]\n",
      " [ 1.19681988e+00]\n",
      " [ 5.31074246e-01]\n",
      " [-4.87124967e-01]\n",
      " [-5.39636989e-01]\n",
      " [ 5.25734040e-01]\n",
      " [ 1.42199856e+00]\n",
      " [ 4.41180784e-01]\n",
      " [-4.05241814e-01]\n",
      " [-4.38173082e-01]\n",
      " [-7.02513262e-01]\n",
      " [-8.44028712e-01]\n",
      " [ 1.10978067e-01]\n",
      " [-3.19798523e-01]\n",
      " [ 1.00101234e+00]\n",
      " [ 1.07221509e+00]\n",
      " [-1.93413656e-01]\n",
      " [-2.29211448e+00]\n",
      " [ 1.58843497e+00]\n",
      " [-1.73832902e-01]\n",
      " [ 1.19878410e-01]\n",
      " [-1.79102518e+00]\n",
      " [-3.02887872e-01]\n",
      " [ 1.14341783e+00]\n",
      " [-1.34671393e-01]\n",
      " [ 1.62759647e+00]\n",
      " [ 1.62492637e+00]\n",
      " [ 4.75002086e-01]\n",
      " [ 5.76465994e-01]\n",
      " [ 5.70235754e-01]\n",
      " [-1.56032216e-01]\n",
      " [-3.87441128e-01]\n",
      " [ 1.23598139e+00]\n",
      " [-8.48294738e-02]\n",
      " [-9.11671317e-01]\n",
      " [ 4.07359481e-01]\n",
      " [-5.05815687e-01]\n",
      " [-1.30061630e+00]\n",
      " [ 1.01881303e+00]\n",
      " [ 6.68139524e-01]\n",
      " [-7.25654153e-01]\n",
      " [ 4.58091435e-01]\n",
      " [ 7.34002061e-01]\n",
      " [-3.53619825e-01]\n",
      " [-1.49108363e+00]\n",
      " [-1.52045476e+00]\n",
      " [-3.19798523e-01]\n",
      " [ 9.03108574e-01]\n",
      " [-1.38783966e+00]\n",
      " [-1.04695653e+00]\n",
      " [ 1.30362400e+00]\n",
      " [ 2.19746394e-02]\n",
      " [ 1.56885421e+00]\n",
      " [-5.90368943e-01]\n",
      " [-9.28581968e-01]\n",
      " [ 2.64579569e+00]\n",
      " [-7.25654153e-01]\n",
      " [-1.73832902e-01]\n",
      " [ 9.42270082e-01]\n",
      " [-7.25654153e-01]\n",
      " [ 2.72074271e-01]\n",
      " [-1.58364720e+00]\n",
      " [ 2.55163620e-01]\n",
      " [-4.55083733e-01]\n",
      " [-1.82484649e+00]\n",
      " [ 1.12561714e+00]\n",
      " [-7.76386107e-01]\n",
      " [ 4.84792463e-01]\n",
      " [ 2.55163620e-01]\n",
      " [ 2.76524443e-01]\n",
      " [ 9.81431590e-01]\n",
      " [ 1.99981495e-01]\n",
      " [-5.22726338e-01]\n",
      " [-9.37482311e-01]\n",
      " [ 1.03305358e+00]\n",
      " [ 1.18524944e+00]\n",
      " [-1.46972281e+00]\n",
      " [-1.46972281e+00]\n",
      " [ 2.21342317e-01]\n",
      " [-5.22726338e-01]\n",
      " [ 2.19746394e-02]\n",
      " [ 1.20216009e+00]\n",
      " [ 5.25734040e-01]\n",
      " [ 2.04431666e-01]\n",
      " [ 1.68633874e+00]\n",
      " [ 1.31430441e+00]\n",
      " [ 1.35346592e+00]\n",
      " [-1.43590151e+00]\n",
      " [-6.70287883e-02]\n",
      " [-6.90052782e-01]\n",
      " [-1.36825890e+00]\n",
      " [ 1.45136969e+00]\n",
      " [-1.30061630e+00]\n",
      " [-5.26286475e-01]\n",
      " [-8.60939363e-01]\n",
      " [-5.39636989e-01]\n",
      " [-1.74029323e+00]\n",
      " [-1.38516955e+00]\n",
      " [ 1.13451749e+00]\n",
      " [ 1.21640064e+00]\n",
      " [-3.36709174e-01]\n",
      " [ 1.28778753e-01]\n",
      " [ 2.19746394e-02]\n",
      " [-5.65447983e-01]\n",
      " [-7.76386107e-01]\n",
      " [-1.34671393e-01]\n",
      " [ 3.73538179e-01]\n",
      " [-1.32909739e+00]\n",
      " [-1.75809391e+00]\n",
      " [ 8.63947065e-01]\n",
      " [-4.05241814e-01]\n",
      " [ 8.60571073e-02]\n",
      " [ 5.55995206e-01]\n",
      " [ 4.41180784e-01]\n",
      " [-3.36709174e-01]\n",
      " [ 1.08378553e+00]\n",
      " [-5.22726338e-01]\n",
      " [ 9.31773815e-02]\n",
      " [ 1.92130779e+00]\n",
      " [-1.67602662e-01]\n",
      " [ 2.19746394e-02]\n",
      " [ 1.71303977e+00]\n",
      " [-5.56547641e-01]\n",
      " [ 1.31430441e+00]\n",
      " [ 7.85624049e-01]\n",
      " [ 4.91912738e-01]\n",
      " [-5.26286475e-01]\n",
      " [-7.93296758e-01]\n",
      " [-3.70530477e-01]\n",
      " [ 9.82321624e-01]\n",
      " [-3.69640442e-01]\n",
      " [ 1.06687488e+00]\n",
      " [ 1.31430441e+00]\n",
      " [-1.41899085e+00]] 13     11090.71780\n",
      "293     2156.75180\n",
      "315     9722.76950\n",
      "8       6406.41070\n",
      "304    12646.20700\n",
      "          ...     \n",
      "134     2457.21115\n",
      "145     5138.25670\n",
      "52     23568.27200\n",
      "345     6184.29940\n",
      "83     11033.66170\n",
      "Name: charges, Length: 243, dtype: float64\n"
     ]
    }
   ],
   "source": [
    "print(x_train1,y_train2)"
   ]
  },
  {
   "cell_type": "markdown",
   "metadata": {},
   "source": [
    "# Modelo: regresión lineal"
   ]
  },
  {
   "cell_type": "markdown",
   "metadata": {},
   "source": [
    "## Regresión lineal sin librería con BMI"
   ]
  },
  {
   "cell_type": "code",
   "execution_count": 18,
   "metadata": {
    "scrolled": true
   },
   "outputs": [
    {
     "name": "stdout",
     "output_type": "stream",
     "text": [
      "1 1\n"
     ]
    }
   ],
   "source": [
    "n = x_train1.shape[1]\n",
    "r = np.linalg.matrix_rank(x_train1)\n",
    "print(n, r)"
   ]
  },
  {
   "cell_type": "code",
   "execution_count": 19,
   "metadata": {},
   "outputs": [
    {
     "name": "stdout",
     "output_type": "stream",
     "text": [
      "[[ 2.45613933e-02]\n",
      " [-4.94658006e-02]\n",
      " [ 3.85571597e-02]\n",
      " [-1.25806344e-01]\n",
      " [-6.25362270e-02]\n",
      " [ 1.06685312e-01]\n",
      " [ 2.58457013e-03]\n",
      " [ 1.76213439e-02]\n",
      " [-3.06698334e-02]\n",
      " [ 5.83363005e-02]\n",
      " [ 2.75687481e-02]\n",
      " [ 5.59192488e-03]\n",
      " [-3.61640392e-02]\n",
      " [ 2.29540141e-03]\n",
      " [ 6.93247121e-02]\n",
      " [ 1.29934477e-01]\n",
      " [-1.70789032e-02]\n",
      " [-2.05489280e-02]\n",
      " [-1.54838884e-01]\n",
      " [-2.74889774e-02]\n",
      " [ 1.10861307e-02]\n",
      " [ 5.99556454e-02]\n",
      " [-2.09996323e-03]\n",
      " [-4.35547930e-03]\n",
      " [-5.07381430e-02]\n",
      " [ 3.06917703e-02]\n",
      " [ 9.74319123e-02]\n",
      " [-3.39663569e-02]\n",
      " [-2.14742679e-02]\n",
      " [-3.78990515e-02]\n",
      " [ 8.03131237e-02]\n",
      " [ 1.22069088e-01]\n",
      " [ 8.92195205e-02]\n",
      " [-1.36158585e-01]\n",
      " [-3.67423766e-02]\n",
      " [-2.05489280e-02]\n",
      " [ 2.68747431e-02]\n",
      " [-7.24257974e-02]\n",
      " [ 1.32479162e-01]\n",
      " [ 1.54236616e-02]\n",
      " [ 7.26212356e-02]\n",
      " [-2.40767864e-02]\n",
      " [ 1.99346937e-02]\n",
      " [ 2.42722246e-02]\n",
      " [ 4.65382165e-02]\n",
      " [ 3.41617950e-02]\n",
      " [ 1.32838130e-02]\n",
      " [ 7.04235533e-02]\n",
      " [-7.23679637e-02]\n",
      " [ 1.41513192e-02]\n",
      " [-4.27570861e-02]\n",
      " [ 1.87780188e-02]\n",
      " [-4.56487734e-02]\n",
      " [-1.85825806e-02]\n",
      " [-5.70998550e-02]\n",
      " [ 1.19656025e-03]\n",
      " [ 1.06812945e-02]\n",
      " [-4.43764310e-02]\n",
      " [ 5.72374594e-02]\n",
      " [-3.72628803e-02]\n",
      " [-1.49344679e-01]\n",
      " [-3.21156770e-02]\n",
      " [ 7.70166003e-02]\n",
      " [-1.19895337e-02]\n",
      " [-7.74573333e-02]\n",
      " [-7.37559736e-02]\n",
      " [ 1.02289947e-01]\n",
      " [ 3.95981671e-02]\n",
      " [ 3.08652716e-02]\n",
      " [-3.83617215e-02]\n",
      " [-1.51125559e-02]\n",
      " [-6.14373858e-02]\n",
      " [ 2.68747431e-02]\n",
      " [ 2.68747431e-02]\n",
      " [ 4.30681918e-02]\n",
      " [-6.33458994e-02]\n",
      " [-4.71524508e-02]\n",
      " [-7.13269563e-02]\n",
      " [-8.63637300e-02]\n",
      " [-7.02859489e-02]\n",
      " [ 1.55552832e-04]\n",
      " [-1.53740043e-01]\n",
      " [-2.29779453e-02]\n",
      " [ 2.64699069e-02]\n",
      " [-3.09590021e-02]\n",
      " [ 5.99556454e-02]\n",
      " [-9.79185135e-03]\n",
      " [-3.61640392e-02]\n",
      " [-2.40189527e-02]\n",
      " [ 2.01185651e-01]\n",
      " [ 6.04183154e-02]\n",
      " [-1.46048155e-01]\n",
      " [ 1.76791776e-02]\n",
      " [ 8.15854661e-02]\n",
      " [ 5.83363005e-02]\n",
      " [ 1.35023847e-01]\n",
      " [-4.69211158e-02]\n",
      " [ 1.03342920e-02]\n",
      " [-7.57223209e-02]\n",
      " [-4.05594038e-02]\n",
      " [ 5.34782659e-02]\n",
      " [-3.44290268e-02]\n",
      " [-6.49532787e-03]\n",
      " [-3.55857017e-02]\n",
      " [-6.03385447e-02]\n",
      " [-8.01176856e-02]\n",
      " [ 1.00092265e-01]\n",
      " [ 1.28789768e-02]\n",
      " [ 1.98768600e-02]\n",
      " [-3.29253494e-02]\n",
      " [ 7.77684389e-02]\n",
      " [ 3.45087975e-02]\n",
      " [-3.16530070e-02]\n",
      " [-3.50651980e-02]\n",
      " [ 3.41617950e-02]\n",
      " [ 9.24003765e-02]\n",
      " [ 2.86675892e-02]\n",
      " [-2.63323025e-02]\n",
      " [-2.84721511e-02]\n",
      " [-4.56487734e-02]\n",
      " [-5.48443389e-02]\n",
      " [ 7.21126975e-03]\n",
      " [-2.07802629e-02]\n",
      " [ 6.50450150e-02]\n",
      " [ 6.96717146e-02]\n",
      " [-1.25678711e-02]\n",
      " [-1.48939842e-01]\n",
      " [ 1.03215287e-01]\n",
      " [-1.12955287e-02]\n",
      " [ 7.78960720e-03]\n",
      " [-1.16379444e-01]\n",
      " [-1.96814218e-02]\n",
      " [ 7.42984142e-02]\n",
      " [-8.75084393e-03]\n",
      " [ 1.05759972e-01]\n",
      " [ 1.05586470e-01]\n",
      " [ 3.08652716e-02]\n",
      " [ 3.74583185e-02]\n",
      " [ 3.70534823e-02]\n",
      " [-1.01388538e-02]\n",
      " [-2.51756276e-02]\n",
      " [ 8.03131237e-02]\n",
      " [-5.51215420e-03]\n",
      " [-5.92397035e-02]\n",
      " [ 2.64699069e-02]\n",
      " [-3.28675157e-02]\n",
      " [-8.45130502e-02]\n",
      " [ 6.62016899e-02]\n",
      " [ 4.34151943e-02]\n",
      " [-4.71524508e-02]\n",
      " [ 2.97664304e-02]\n",
      " [ 4.76948914e-02]\n",
      " [-2.29779453e-02]\n",
      " [-9.68894717e-02]\n",
      " [-9.87979853e-02]\n",
      " [-2.07802629e-02]\n",
      " [ 5.86833030e-02]\n",
      " [-9.01807572e-02]\n",
      " [-6.80304328e-02]\n",
      " [ 8.47084884e-02]\n",
      " [ 1.42789523e-03]\n",
      " [ 1.01942944e-01]\n",
      " [-3.83617215e-02]\n",
      " [-6.03385447e-02]\n",
      " [ 1.71921776e-01]\n",
      " [-4.71524508e-02]\n",
      " [-1.12955287e-02]\n",
      " [ 6.12279878e-02]\n",
      " [-4.71524508e-02]\n",
      " [ 1.76791776e-02]\n",
      " [-1.02904181e-01]\n",
      " [ 1.65803365e-02]\n",
      " [-2.95709922e-02]\n",
      " [-1.18577126e-01]\n",
      " [ 7.31417393e-02]\n",
      " [-5.04489742e-02]\n",
      " [ 3.15014427e-02]\n",
      " [ 1.65803365e-02]\n",
      " [ 1.79683464e-02]\n",
      " [ 6.37726726e-02]\n",
      " [ 1.29946443e-02]\n",
      " [-3.39663569e-02]\n",
      " [-6.09168821e-02]\n",
      " [ 6.71270298e-02]\n",
      " [ 7.70166003e-02]\n",
      " [-9.55014618e-02]\n",
      " [-9.55014618e-02]\n",
      " [ 1.43826542e-02]\n",
      " [-3.39663569e-02]\n",
      " [ 1.42789523e-03]\n",
      " [ 7.81154414e-02]\n",
      " [ 3.41617950e-02]\n",
      " [ 1.32838130e-02]\n",
      " [ 1.09576999e-01]\n",
      " [ 8.54024933e-02]\n",
      " [ 8.79471781e-02]\n",
      " [-9.33037795e-02]\n",
      " [-4.35547930e-03]\n",
      " [-4.48391010e-02]\n",
      " [-8.89084148e-02]\n",
      " [ 9.43088901e-02]\n",
      " [-8.45130502e-02]\n",
      " [-3.41976918e-02]\n",
      " [-5.59431800e-02]\n",
      " [-3.50651980e-02]\n",
      " [-1.13082920e-01]\n",
      " [-9.00072560e-02]\n",
      " [ 7.37200768e-02]\n",
      " [ 7.90407813e-02]\n",
      " [-2.18791041e-02]\n",
      " [ 8.36794466e-03]\n",
      " [ 1.42789523e-03]\n",
      " [-3.67423766e-02]\n",
      " [-5.04489742e-02]\n",
      " [-8.75084393e-03]\n",
      " [ 2.42722246e-02]\n",
      " [-8.63637300e-02]\n",
      " [-1.14239595e-01]\n",
      " [ 5.61386182e-02]\n",
      " [-2.63323025e-02]\n",
      " [ 5.59192488e-03]\n",
      " [ 3.61281424e-02]\n",
      " [ 2.86675892e-02]\n",
      " [-2.18791041e-02]\n",
      " [ 7.04235533e-02]\n",
      " [-3.39663569e-02]\n",
      " [ 6.05459485e-03]\n",
      " [ 1.24845108e-01]\n",
      " [-1.08906925e-02]\n",
      " [ 1.42789523e-03]\n",
      " [ 1.11312011e-01]\n",
      " [-3.61640392e-02]\n",
      " [ 8.54024933e-02]\n",
      " [ 5.10492486e-02]\n",
      " [ 3.19641127e-02]\n",
      " [-3.41976918e-02]\n",
      " [-5.15478154e-02]\n",
      " [-2.40767864e-02]\n",
      " [ 6.38305063e-02]\n",
      " [-2.40189527e-02]\n",
      " [ 6.93247121e-02]\n",
      " [ 8.54024933e-02]\n",
      " [-9.22049383e-02]] [15.38953207] [[1.]]\n"
     ]
    }
   ],
   "source": [
    "U, sigma, VT = np.linalg.svd(x_train1, full_matrices=False)\n",
    "print(U, sigma, VT)"
   ]
  },
  {
   "cell_type": "code",
   "execution_count": 20,
   "metadata": {},
   "outputs": [
    {
     "name": "stdout",
     "output_type": "stream",
     "text": [
      "[[0.06497923]]\n"
     ]
    }
   ],
   "source": [
    "D_plus = np.diag(np.hstack([1/sigma[:r], np.zeros(n-r)]))\n",
    "print(D_plus)"
   ]
  },
  {
   "cell_type": "code",
   "execution_count": 21,
   "metadata": {},
   "outputs": [
    {
     "name": "stdout",
     "output_type": "stream",
     "text": [
      "[[1.]]\n"
     ]
    }
   ],
   "source": [
    "V = VT.T\n",
    "print(V)"
   ]
  },
  {
   "cell_type": "code",
   "execution_count": 22,
   "metadata": {},
   "outputs": [
    {
     "name": "stdout",
     "output_type": "stream",
     "text": [
      "[[ 1.59598052e-03 -3.21424981e-03  2.50541469e-03 -8.17479984e-03\n",
      "  -4.06355611e-03  6.93232979e-03  1.67943386e-04  1.14502142e-03\n",
      "  -1.99290227e-03  3.79064810e-03  1.79139612e-03  3.63358994e-04\n",
      "  -2.34991155e-03  1.49153424e-04  4.50466667e-03  8.44304275e-03\n",
      "  -1.10977404e-03 -1.33525359e-03 -1.00613120e-02 -1.78621268e-03\n",
      "   7.20368276e-04  3.89587189e-03 -1.36454002e-04 -2.83015707e-04\n",
      "  -3.29692565e-03  1.99432771e-03  6.33105100e-03 -2.20710784e-03\n",
      "  -1.39538147e-03 -2.46265132e-03  5.21868523e-03  7.93195578e-03\n",
      "   5.79741607e-03 -8.84748049e-03 -2.38749148e-03 -1.33525359e-03\n",
      "   1.74630021e-03 -4.70617281e-03  8.60839442e-03  1.00221771e-03\n",
      "   4.71887224e-03 -1.56449113e-03  1.29534112e-03  1.57719055e-03\n",
      "   3.02401764e-03  2.21980726e-03  8.63171989e-04  4.57606852e-03\n",
      "  -4.70241482e-03  9.19541875e-04 -2.77832269e-03  1.22018127e-03\n",
      "  -2.96622231e-03 -1.20748185e-03 -3.71030482e-03  7.77515678e-05\n",
      "   6.94062329e-04 -2.88354648e-03  3.71924625e-03 -2.42131341e-03\n",
      "  -9.70430277e-03 -2.08685208e-03  5.00447966e-03 -7.79070710e-04\n",
      "  -5.03311816e-03 -4.79260664e-03  6.64672236e-03  2.57305855e-03\n",
      "   2.00560169e-03 -2.49271526e-03 -9.82002302e-04 -3.99215425e-03\n",
      "   1.74630021e-03  1.74630021e-03  2.79853810e-03 -4.11616800e-03\n",
      "  -3.06393012e-03 -4.63477096e-03 -5.61184899e-03 -4.56712709e-03\n",
      "   1.01077038e-05 -9.98991019e-03 -1.49308927e-03  1.71999427e-03\n",
      "  -2.01169223e-03  3.89587189e-03 -6.36266997e-04 -2.34991155e-03\n",
      "  -1.56073314e-03  1.30728894e-02  3.92593583e-03 -9.49009720e-03\n",
      "   1.14877941e-03  5.30136107e-03  3.79064810e-03  8.77374608e-03\n",
      "  -3.04889815e-03  6.71514374e-04 -4.92037838e-03 -2.63551898e-03\n",
      "   3.47497674e-03 -2.23717178e-03 -4.22061427e-04 -2.31233163e-03\n",
      "  -3.92075239e-03 -5.20598581e-03  6.50391865e-03  8.36866042e-04\n",
      "   1.29158313e-03 -2.13946397e-03  5.05333356e-03  2.24235522e-03\n",
      "  -2.05678814e-03 -2.27850969e-03  2.21980726e-03  6.00410565e-03\n",
      "   1.86279798e-03 -1.71105284e-03 -1.85009856e-03 -2.96622231e-03\n",
      "  -3.56374311e-03  4.68582782e-04 -1.35028556e-03  4.22657523e-03\n",
      "   4.52721462e-03 -8.16650634e-04 -9.67799682e-03  6.70685024e-03\n",
      "  -7.33974800e-04  5.06162706e-04 -7.56224707e-03 -1.27888370e-03\n",
      "   4.82785402e-03 -5.68623133e-04  6.87220191e-03  6.86092793e-03\n",
      "   2.00560169e-03  2.43401283e-03  2.40770688e-03 -6.58814951e-04\n",
      "  -1.63589299e-03  5.21868523e-03 -3.58175556e-04 -3.84935054e-03\n",
      "   1.71999427e-03 -2.13570598e-03 -5.49159323e-03  4.30173508e-03\n",
      "   2.82108605e-03 -3.06393012e-03  1.93419984e-03  3.09917749e-03\n",
      "  -1.49308927e-03 -6.29580362e-03 -6.41981737e-03 -1.35028556e-03\n",
      "   3.81319606e-03 -5.85987649e-03 -4.42056539e-03  5.50429266e-03\n",
      "   9.27835376e-05  6.62417441e-03 -2.49271526e-03 -3.92075239e-03\n",
      "   1.11713453e-02 -3.06393012e-03 -7.33974800e-04  3.97854773e-03\n",
      "  -3.06393012e-03  1.14877941e-03 -6.68663483e-03  1.07737756e-03\n",
      "  -1.92150041e-03 -7.70505078e-03  4.75269417e-03 -3.27813569e-03\n",
      "   2.04693961e-03  1.07737756e-03  1.16756938e-03  4.14389939e-03\n",
      "   8.44382026e-04 -2.20710784e-03 -3.95833232e-03  4.36186295e-03\n",
      "   5.00447966e-03 -6.20561180e-03 -6.20561180e-03  9.34573845e-04\n",
      "  -2.20710784e-03  9.27835376e-05  5.07588152e-03  2.21980726e-03\n",
      "   8.63171989e-04  7.12022941e-03  5.54938857e-03  5.71474023e-03\n",
      "  -6.06280809e-03 -2.83015707e-04 -2.91361042e-03 -5.77720066e-03\n",
      "   6.12811940e-03 -5.49159323e-03 -2.22213981e-03 -3.63514497e-03\n",
      "  -2.27850969e-03 -7.34804150e-03 -5.84860252e-03  4.79027409e-03\n",
      "   5.13600940e-03 -1.42168742e-03  5.43742631e-04  9.27835376e-05\n",
      "  -2.38749148e-03 -3.27813569e-03 -5.68623133e-04  1.57719055e-03\n",
      "  -5.61184899e-03 -7.42320135e-03  3.64784439e-03 -1.71105284e-03\n",
      "   3.63358994e-04  2.34757900e-03  1.86279798e-03 -1.42168742e-03\n",
      "   4.57606852e-03 -2.20710784e-03  3.93422933e-04  8.11233941e-03\n",
      "  -7.07668853e-04  9.27835376e-05  7.23296918e-03 -2.34991155e-03\n",
      "   5.54938857e-03  3.31714105e-03  2.07700355e-03 -2.22213981e-03\n",
      "  -3.34953754e-03 -1.56449113e-03  4.14765739e-03 -1.56073314e-03\n",
      "   4.50466667e-03  5.54938857e-03 -5.99140623e-03]]\n"
     ]
    }
   ],
   "source": [
    "X_plus = V.dot(D_plus).dot(U.T)\n",
    "print(X_plus)"
   ]
  },
  {
   "cell_type": "code",
   "execution_count": 23,
   "metadata": {},
   "outputs": [
    {
     "name": "stdout",
     "output_type": "stream",
     "text": [
      "[2519.92625499]\n"
     ]
    }
   ],
   "source": [
    "w = X_plus.dot(y_train1)\n",
    "print(w)"
   ]
  },
  {
   "cell_type": "code",
   "execution_count": 24,
   "metadata": {},
   "outputs": [
    {
     "name": "stdout",
     "output_type": "stream",
     "text": [
      "80328572559.70201\n"
     ]
    }
   ],
   "source": [
    "error = np.linalg.norm(x_train1.dot(w) - y_train1, ord=2) ** 2\n",
    "print(error)"
   ]
  },
  {
   "cell_type": "code",
   "execution_count": 25,
   "metadata": {},
   "outputs": [
    {
     "name": "stderr",
     "output_type": "stream",
     "text": [
      "c:\\users\\maria\\appdata\\local\\programs\\python\\python37-32\\lib\\site-packages\\ipykernel_launcher.py:1: FutureWarning: `rcond` parameter will change to the default of machine precision times ``max(M, N)`` where M and N are the input matrix dimensions.\n",
      "To use the future default and silence this warning we advise to pass `rcond=None`, to keep using the old, explicitly pass `rcond=-1`.\n",
      "  \"\"\"Entry point for launching an IPython kernel.\n"
     ]
    },
    {
     "data": {
      "text/plain": [
       "(array([2519.92625499]), array([8.03285726e+10]), 1, array([15.38953207]))"
      ]
     },
     "execution_count": 25,
     "metadata": {},
     "output_type": "execute_result"
    }
   ],
   "source": [
    "np.linalg.lstsq(x_train1, y_train1)"
   ]
  },
  {
   "cell_type": "markdown",
   "metadata": {},
   "source": [
    "## Regresión lineal con librería con BMI"
   ]
  },
  {
   "cell_type": "code",
   "execution_count": 26,
   "metadata": {},
   "outputs": [],
   "source": [
    "lr=LinearRegression()"
   ]
  },
  {
   "cell_type": "code",
   "execution_count": 28,
   "metadata": {},
   "outputs": [
    {
     "name": "stdout",
     "output_type": "stream",
     "text": [
      "2370.950267251095\n"
     ]
    }
   ],
   "source": [
    "lr.fit(x_train2,y_train2)\n",
    "w2 = lr.coef_[0]\n",
    "print(w2)"
   ]
  },
  {
   "cell_type": "markdown",
   "metadata": {},
   "source": [
    "## Regresión lineal con librería con más features"
   ]
  },
  {
   "cell_type": "code",
   "execution_count": 29,
   "metadata": {},
   "outputs": [],
   "source": [
    "target_m=df['charges']\n",
    "data_m=df.drop(columns=['charges'])"
   ]
  },
  {
   "cell_type": "code",
   "execution_count": 30,
   "metadata": {},
   "outputs": [],
   "source": [
    "data_m=sc.fit_transform(data_m)"
   ]
  },
  {
   "cell_type": "code",
   "execution_count": 31,
   "metadata": {},
   "outputs": [],
   "source": [
    "x_train3,x_test3,y_train3,y_test3=train_test_split(data_m,target_m,test_size=.3)\n",
    "x_train3p,x_test3p,y_train3p,y_test3p=train_test_split(data_m,target_m,test_size=.3)"
   ]
  },
  {
   "cell_type": "code",
   "execution_count": 32,
   "metadata": {},
   "outputs": [
    {
     "name": "stdout",
     "output_type": "stream",
     "text": [
      "[[ 1.34812871 -1.01739261 -0.50670572 ... -0.56850147  1.63191847\n",
      "  -0.55522129]\n",
      " [ 0.86189218  0.98290472 -1.13150978 ... -0.56850147 -0.61277571\n",
      "  -0.55522129]\n",
      " [ 0.30619329  0.98290472 -0.58324867 ... -0.56850147 -0.61277571\n",
      "   1.80108368]\n",
      " ...\n",
      " [ 1.27866635  0.98290472  1.11760683 ...  1.75901042 -0.61277571\n",
      "  -0.55522129]\n",
      " [-1.08305395 -1.01739261  0.47500209 ...  1.75901042 -0.61277571\n",
      "  -0.55522129]\n",
      " [-0.52735506  0.98290472  1.18524944 ... -0.56850147 -0.61277571\n",
      "  -0.55522129]] 231    14001.28670\n",
      "262    24869.83680\n",
      "74      7726.85400\n",
      "329     9144.56500\n",
      "330    48517.56315\n",
      "          ...     \n",
      "64     14711.74380\n",
      "193    12044.34200\n",
      "55     47496.49445\n",
      "174     2855.43755\n",
      "319     4667.60765\n",
      "Name: charges, Length: 243, dtype: float64\n"
     ]
    }
   ],
   "source": [
    "print(x_train3, y_train3)"
   ]
  },
  {
   "cell_type": "code",
   "execution_count": 33,
   "metadata": {},
   "outputs": [
    {
     "name": "stdout",
     "output_type": "stream",
     "text": [
      "3921.924614739376\n"
     ]
    }
   ],
   "source": [
    "lr_m = LinearRegression()\n",
    "lr_m.fit(x_train3, y_train3)\n",
    "w3 = lr_m.coef_[0]\n",
    "print(w3)"
   ]
  },
  {
   "cell_type": "markdown",
   "metadata": {},
   "source": [
    "# Evalucación de modelos"
   ]
  },
  {
   "cell_type": "markdown",
   "metadata": {},
   "source": [
    "## Modelo 1"
   ]
  },
  {
   "cell_type": "code",
   "execution_count": 37,
   "metadata": {},
   "outputs": [
    {
     "name": "stdout",
     "output_type": "stream",
     "text": [
      "144954132.63764328\n",
      "-25.457247515992826\n",
      "9438.196358695744\n"
     ]
    }
   ],
   "source": [
    "print(mean_squared_error(lr.predict(x_train1),y_train1))\n",
    "print(r2_score(lr.predict(x_train1),y_train1))\n",
    "print(mean_absolute_error(lr.predict(x_train1), y_train1))"
   ]
  },
  {
   "cell_type": "code",
   "execution_count": 38,
   "metadata": {},
   "outputs": [
    {
     "name": "stdout",
     "output_type": "stream",
     "text": [
      "170405215.53209755\n",
      "-27.634330601144143\n",
      "10424.048819820851\n"
     ]
    }
   ],
   "source": [
    "print(mean_squared_error(lr.predict(x_test1),y_test1))\n",
    "print(r2_score(lr.predict(x_test1),y_test1))\n",
    "print(mean_absolute_error(lr.predict(x_test1), y_test1))"
   ]
  },
  {
   "cell_type": "code",
   "execution_count": 39,
   "metadata": {},
   "outputs": [
    {
     "data": {
      "text/plain": [
       "[<matplotlib.lines.Line2D at 0x62ce110>]"
      ]
     },
     "execution_count": 39,
     "metadata": {},
     "output_type": "execute_result"
    },
    {
     "data": {
      "image/png": "[encoded data removed]",
      "text/plain": [
       "<Figure size 432x288 with 1 Axes>"
      ]
     },
     "metadata": {
      "needs_background": "light"
     },
     "output_type": "display_data"
    }
   ],
   "source": [
    "plt.scatter(x_train1, y_train1)\n",
    "plt.plot(x_train1, w*x_train1, c='red')"
   ]
  },
  {
   "cell_type": "markdown",
   "metadata": {},
   "source": [
    "## Modelo 2"
   ]
  },
  {
   "cell_type": "code",
   "execution_count": 40,
   "metadata": {},
   "outputs": [
    {
     "name": "stdout",
     "output_type": "stream",
     "text": [
      "148880903.30223686\n",
      "-26.600927672866767\n",
      "9684.297012980662\n"
     ]
    }
   ],
   "source": [
    "print(mean_squared_error(lr.predict(x_train2),y_train2))\n",
    "print(r2_score(lr.predict(x_train2),y_train2))\n",
    "print(mean_absolute_error(lr.predict(x_train2), y_train2))"
   ]
  },
  {
   "cell_type": "code",
   "execution_count": 41,
   "metadata": {},
   "outputs": [
    {
     "name": "stdout",
     "output_type": "stream",
     "text": [
      "161317546.27975246\n",
      "-25.27527692099171\n",
      "9854.501591332906\n"
     ]
    }
   ],
   "source": [
    "print(mean_squared_error(lr.predict(x_test2),y_test2))\n",
    "print(r2_score(lr.predict(x_test2),y_test2))\n",
    "print(mean_absolute_error(lr.predict(x_test2), y_test2))"
   ]
  },
  {
   "cell_type": "code",
   "execution_count": 42,
   "metadata": {},
   "outputs": [
    {
     "data": {
      "text/plain": [
       "[<matplotlib.lines.Line2D at 0x62fee70>]"
      ]
     },
     "execution_count": 42,
     "metadata": {},
     "output_type": "execute_result"
    },
    {
     "data": {
      "image/png": "[encoded data removed]",
      "text/plain": [
       "<Figure size 432x288 with 1 Axes>"
      ]
     },
     "metadata": {
      "needs_background": "light"
     },
     "output_type": "display_data"
    }
   ],
   "source": [
    "plt.scatter(x_train2, y_train2)\n",
    "plt.plot(x_train2, w*x_train2, c='red')"
   ]
  },
  {
   "cell_type": "code",
   "execution_count": 63,
   "metadata": {},
   "outputs": [
    {
     "name": "stdout",
     "output_type": "stream",
     "text": [
      "                            OLS Regression Results                            \n",
      "==============================================================================\n",
      "Dep. Variable:                charges   R-squared:                       1.000\n",
      "Model:                            OLS   Adj. R-squared:                  1.000\n",
      "Method:                 Least Squares   F-statistic:                 2.056e+31\n",
      "Date:                Sat, 17 Apr 2021   Prob (F-statistic):               0.00\n",
      "Time:                        11:29:53   Log-Likelihood:                 8134.6\n",
      "No. Observations:                 348   AIC:                        -1.625e+04\n",
      "Df Residuals:                     338   BIC:                        -1.621e+04\n",
      "Df Model:                           9                                         \n",
      "Covariance Type:            nonrobust                                         \n",
      "==============================================================================\n",
      "                 coef    std err          t      P>|t|      [0.025      0.975]\n",
      "------------------------------------------------------------------------------\n",
      "const      -8.328e-12   4.86e-12     -1.714      0.087   -1.79e-11    1.23e-12\n",
      "age        -3.957e-13   7.72e-14     -5.125      0.000   -5.48e-13   -2.44e-13\n",
      "sex        -4.583e-12   1.89e-12     -2.428      0.016    -8.3e-12    -8.7e-13\n",
      "bmi         5.045e-13   1.79e-13      2.824      0.005    1.53e-13    8.56e-13\n",
      "children    1.288e-14   7.87e-13      0.016      0.987   -1.54e-12    1.56e-12\n",
      "smoker       1.45e-11   4.31e-12      3.363      0.001    6.02e-12     2.3e-11\n",
      "charges        1.0000   1.54e-16   6.48e+15      0.000       1.000       1.000\n",
      "region_0    1.499e-12      2e-12      0.750      0.454   -2.43e-12    5.43e-12\n",
      "region_1   -1.194e-12   1.93e-12     -0.618      0.537   -4.99e-12     2.6e-12\n",
      "region_2   -3.681e-12   2.13e-12     -1.730      0.084   -7.86e-12    5.03e-13\n",
      "region_3   -2.892e-12   2.05e-12     -1.407      0.160   -6.93e-12    1.15e-12\n",
      "==============================================================================\n",
      "Omnibus:                       71.613   Durbin-Watson:                   1.949\n",
      "Prob(Omnibus):                  0.000   Jarque-Bera (JB):              111.703\n",
      "Skew:                          -1.350   Prob(JB):                     5.55e-25\n",
      "Kurtosis:                       3.645   Cond. No.                     1.15e+20\n",
      "==============================================================================\n",
      "\n",
      "Notes:\n",
      "[1] Standard Errors assume that the covariance matrix of the errors is correctly specified.\n",
      "[2] The smallest eigenvalue is 9.3e-30. This might indicate that there are\n",
      "strong multicollinearity problems or that the design matrix is singular.\n"
     ]
    }
   ],
   "source": [
    "#p-values\n",
    "X2 = sm.add_constant(df)\n",
    "est = sm.OLS(target, X2)\n",
    "est2 = est.fit()\n",
    "print(est2.summary())"
   ]
  },
  {
   "cell_type": "markdown",
   "metadata": {},
   "source": [
    "## Modelo 3"
   ]
  },
  {
   "cell_type": "code",
   "execution_count": 43,
   "metadata": {},
   "outputs": [
    {
     "name": "stdout",
     "output_type": "stream",
     "text": [
      "36801369.85355954\n",
      "0.6954466763610219\n",
      "4465.653200405427\n"
     ]
    }
   ],
   "source": [
    "print(mean_squared_error(lr_m.predict(x_train3),y_train3))\n",
    "print(r2_score(lr_m.predict(x_train3),y_train3))\n",
    "print(mean_absolute_error(lr_m.predict(x_train3), y_train3))"
   ]
  },
  {
   "cell_type": "code",
   "execution_count": 44,
   "metadata": {},
   "outputs": [
    {
     "name": "stdout",
     "output_type": "stream",
     "text": [
      "36542110.89798327\n",
      "0.6581492078470066\n",
      "4295.050799118166\n"
     ]
    }
   ],
   "source": [
    "print(mean_squared_error(lr_m.predict(x_test3),y_test3))\n",
    "print(r2_score(lr_m.predict(x_test3),y_test3))\n",
    "print(mean_absolute_error(lr_m.predict(x_test3), y_test3))"
   ]
  },
  {
   "cell_type": "code",
   "execution_count": 65,
   "metadata": {},
   "outputs": [
    {
     "name": "stdout",
     "output_type": "stream",
     "text": [
      "                            OLS Regression Results                            \n",
      "==============================================================================\n",
      "Dep. Variable:                charges   R-squared:                       1.000\n",
      "Model:                            OLS   Adj. R-squared:                  1.000\n",
      "Method:                 Least Squares   F-statistic:                 2.056e+31\n",
      "Date:                Sat, 17 Apr 2021   Prob (F-statistic):               0.00\n",
      "Time:                        11:33:55   Log-Likelihood:                 8134.6\n",
      "No. Observations:                 348   AIC:                        -1.625e+04\n",
      "Df Residuals:                     338   BIC:                        -1.621e+04\n",
      "Df Model:                           9                                         \n",
      "Covariance Type:            nonrobust                                         \n",
      "==============================================================================\n",
      "                 coef    std err          t      P>|t|      [0.025      0.975]\n",
      "------------------------------------------------------------------------------\n",
      "const      -8.328e-12   4.86e-12     -1.714      0.087   -1.79e-11    1.23e-12\n",
      "age        -3.957e-13   7.72e-14     -5.125      0.000   -5.48e-13   -2.44e-13\n",
      "sex        -4.583e-12   1.89e-12     -2.428      0.016    -8.3e-12    -8.7e-13\n",
      "bmi         5.045e-13   1.79e-13      2.824      0.005    1.53e-13    8.56e-13\n",
      "children    1.288e-14   7.87e-13      0.016      0.987   -1.54e-12    1.56e-12\n",
      "smoker       1.45e-11   4.31e-12      3.363      0.001    6.02e-12     2.3e-11\n",
      "charges        1.0000   1.54e-16   6.48e+15      0.000       1.000       1.000\n",
      "region_0    1.499e-12      2e-12      0.750      0.454   -2.43e-12    5.43e-12\n",
      "region_1   -1.194e-12   1.93e-12     -0.618      0.537   -4.99e-12     2.6e-12\n",
      "region_2   -3.681e-12   2.13e-12     -1.730      0.084   -7.86e-12    5.03e-13\n",
      "region_3   -2.892e-12   2.05e-12     -1.407      0.160   -6.93e-12    1.15e-12\n",
      "==============================================================================\n",
      "Omnibus:                       71.613   Durbin-Watson:                   1.949\n",
      "Prob(Omnibus):                  0.000   Jarque-Bera (JB):              111.703\n",
      "Skew:                          -1.350   Prob(JB):                     5.55e-25\n",
      "Kurtosis:                       3.645   Cond. No.                     1.15e+20\n",
      "==============================================================================\n",
      "\n",
      "Notes:\n",
      "[1] Standard Errors assume that the covariance matrix of the errors is correctly specified.\n",
      "[2] The smallest eigenvalue is 9.3e-30. This might indicate that there are\n",
      "strong multicollinearity problems or that the design matrix is singular.\n"
     ]
    }
   ],
   "source": [
    "X3 = sm.add_constant(df)\n",
    "est = sm.OLS(target_m, X3)\n",
    "est2 = est.fit()\n",
    "print(est2.summary())"
   ]
  },
  {
   "cell_type": "markdown",
   "metadata": {},
   "source": [
    "# Regresion Polinomial"
   ]
  },
  {
   "cell_type": "markdown",
   "metadata": {},
   "source": [
    "## Modelo 2"
   ]
  },
  {
   "cell_type": "code",
   "execution_count": 57,
   "metadata": {},
   "outputs": [
    {
     "data": {
      "text/plain": [
       "Pipeline(steps=[('polynomialfeatures', PolynomialFeatures()),\n",
       "                ('linearregression', LinearRegression())])"
      ]
     },
     "execution_count": 57,
     "metadata": {},
     "output_type": "execute_result"
    }
   ],
   "source": [
    "degree=2\n",
    "polyreg=make_pipeline(PolynomialFeatures(degree),LinearRegression())\n",
    "polyreg.fit(x_train2p,y_train2p)"
   ]
  },
  {
   "cell_type": "code",
   "execution_count": 58,
   "metadata": {},
   "outputs": [
    {
     "data": {
      "image/png": "[encoded data removed]",
      "text/plain": [
       "<Figure size 432x288 with 1 Axes>"
      ]
     },
     "metadata": {
      "needs_background": "light"
     },
     "output_type": "display_data"
    },
    {
     "name": "stdout",
     "output_type": "stream",
     "text": [
      "151479984.34881264\n",
      "-19.031535827090355\n",
      "9822.815256434482\n"
     ]
    }
   ],
   "source": [
    "plt.figure()\n",
    "plt.scatter(x_train2p,y_train2p)\n",
    "plt.plot(x_train2p,polyreg.predict(x_train2p),color=\"black\")\n",
    "plt.title(\"Polynomial regression with degree \"+str(degree))\n",
    "plt.show()\n",
    "print(mean_squared_error(polyreg.predict(x_train2p),y_train2p))\n",
    "print(r2_score(polyreg.predict(x_train2p),y_train2p))\n",
    "print(mean_absolute_error(polyreg.predict(x_train2p), y_train2p))"
   ]
  },
  {
   "cell_type": "code",
   "execution_count": 52,
   "metadata": {},
   "outputs": [
    {
     "data": {
      "image/png": "[encoded data removed]",
      "text/plain": [
       "<Figure size 432x288 with 1 Axes>"
      ]
     },
     "metadata": {
      "needs_background": "light"
     },
     "output_type": "display_data"
    },
    {
     "name": "stdout",
     "output_type": "stream",
     "text": [
      "153781922.45948777\n",
      "-22.69504564256683\n",
      "10022.987690459333\n"
     ]
    }
   ],
   "source": [
    "plt.figure()\n",
    "plt.scatter(x_test2p,y_test2p)\n",
    "plt.plot(x_test2p,polyreg.predict(x_test2p),color=\"black\")\n",
    "plt.title(\"Polynomial regression with degree \"+str(degree))\n",
    "plt.show()\n",
    "print(mean_squared_error(polyreg.predict(x_test2p),y_test2p))\n",
    "print(r2_score(polyreg.predict(x_test2p),y_test2p))\n",
    "print(mean_absolute_error(polyreg.predict(x_test2p), y_test2p))"
   ]
  },
  {
   "cell_type": "markdown",
   "metadata": {},
   "source": [
    "## Modelo 3"
   ]
  },
  {
   "cell_type": "code",
   "execution_count": 53,
   "metadata": {},
   "outputs": [
    {
     "data": {
      "text/plain": [
       "Pipeline(steps=[('polynomialfeatures', PolynomialFeatures()),\n",
       "                ('linearregression', LinearRegression())])"
      ]
     },
     "execution_count": 53,
     "metadata": {},
     "output_type": "execute_result"
    }
   ],
   "source": [
    "polyreg3=make_pipeline(PolynomialFeatures(degree),LinearRegression())\n",
    "polyreg3.fit(x_train3p,y_train3p)"
   ]
  },
  {
   "cell_type": "code",
   "execution_count": 54,
   "metadata": {},
   "outputs": [
    {
     "name": "stdout",
     "output_type": "stream",
     "text": [
      "20080276.195585094\n",
      "0.8636879990332785\n",
      "2894.6152161728396\n"
     ]
    }
   ],
   "source": [
    "print(mean_squared_error(polyreg3.predict(x_train3p),y_train3p))\n",
    "print(r2_score(polyreg3.predict(x_train3p),y_train3p))\n",
    "print(mean_absolute_error(polyreg3.predict(x_train3p), y_train3p))"
   ]
  },
  {
   "cell_type": "code",
   "execution_count": 59,
   "metadata": {},
   "outputs": [
    {
     "name": "stdout",
     "output_type": "stream",
     "text": [
      "25016625.61596641\n",
      "0.7969696607441954\n",
      "3151.6982764761906\n"
     ]
    }
   ],
   "source": [
    "print(mean_squared_error(polyreg3.predict(x_test3p),y_test3p))\n",
    "print(r2_score(polyreg3.predict(x_test3p),y_test3p))\n",
    "print(mean_absolute_error(polyreg3.predict(x_test3p), y_test3p))"
   ]
  },
  {
   "cell_type": "code",
   "execution_count": null,
   "metadata": {},
   "outputs": [],
   "source": []
  }
 ],
 "metadata": {
  "kernelspec": {
   "display_name": "Python 3",
   "language": "python",
   "name": "python3"
  },
  "language_info": {
   "codemirror_mode": {
    "name": "ipython",
    "version": 3
   },
   "file_extension": ".py",
   "mimetype": "text/x-python",
   "name": "python",
   "nbconvert_exporter": "python",
   "pygments_lexer": "ipython3",
   "version": "3.8.1"
  }
 },
 "nbformat": 4,
 "nbformat_minor": 4
}
